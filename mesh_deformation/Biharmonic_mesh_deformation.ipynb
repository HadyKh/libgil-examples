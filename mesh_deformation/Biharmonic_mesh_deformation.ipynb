{
 "cells": [
  {
   "cell_type": "markdown",
   "id": "865dcbac",
   "metadata": {},
   "source": [
    "Biharmonic surfaces are surfaces where the position functions satisfy the biharmonic equation:\n",
    " **Δ²x' = 0**\n",
    "\n",
    "\n",
    "**Subject to certain boundary conditions, denoted as**:\n",
    " ***x'b = x'bc***\n",
    ">\n",
    "- x': In this equation, x' represents the unknown 3D position of a point on the surface. It's essentially the position vector that defines where each point on the surface is located in three-dimensional space. This vector is unknown because the goal is to find the positions that satisfy the biharmonic equation.\n",
    "\n",
    "- x'b refers to the position of a point on the surface before any deformation or manipulation.\n",
    "\n",
    "- x'bc represents the position of the same point on the surface after applying certain boundary conditions or constraints."
   ]
  },
  {
   "cell_type": "markdown",
   "id": "265be2d7",
   "metadata": {},
   "source": [
    "## ***Biharmonic Equation (Δ²x' = 0):***\n",
    ">\n",
    "- The biharmonic equation is a differential equation that describes how the surface should deform or change.\n",
    "- It states that the bi-Laplacian of the position vector x' should be zero.\n",
    "- The bi-Laplacian is an operator that describes how the curvature or bending of the surface should behave.\n",
    "- **In simple terms, it enforces that the surface remains smooth and doesn't bend or warp excessively.**\n",
    "\n",
    "in simple words: keeping things super smooth and flat\n"
   ]
  },
  {
   "cell_type": "markdown",
   "id": "621939df",
   "metadata": {},
   "source": [
    "# ========="
   ]
  },
  {
   "cell_type": "markdown",
   "id": "8e5894f8",
   "metadata": {},
   "source": [
    "### when you see the expression \"x'b = x'bc,\"\n",
    "\n",
    "it means that the position of a point on the surface before deformation (x'b) should equal the position of the same point after deformation, subject to the constraints (x'bc).\n",
    "\n",
    "This is a way to ensure that the surface deformation adheres to specific rules, such as maintaining smoothness (as indicated by the biharmonic equation) and other conditions that may be imposed by the problem or application at hand."
   ]
  },
  {
   "cell_type": "markdown",
   "id": "dc35f33c",
   "metadata": {},
   "source": [
    "# **Note**\n",
    "the next part answers the following questions:\n",
    "- how to perform deformation?\n",
    "- while ensuring that the rest pose is reproduced\n",
    "- and that the resulting deformation is smooth \n",
    "- and controlled by working with deformation fields and solving for them based on biharmonic equations and handle constraints."
   ]
  },
  {
   "cell_type": "markdown",
   "id": "62801196",
   "metadata": {},
   "source": [
    "## ***Deformation Fields:***\n",
    "\n",
    "- Instead of directly manipulating the positions of the vertices on the surface (x), the documentation suggests working with deformation fields (d).\n",
    "- **Defromation fields**: are essentially displacement vectors. These displacement vectors describe how each point on the surface should move or deform.\n",
    "\n",
    "#### The deformed positions (x'):\n",
    "- Obtained by adding the deformation field (d) to the original positions (x). So, x' = x + d.\n",
    "- i.e. This equation tells you how to calculate the new positions after applying deformation.\n",
    "\n",
    "#### Smooth Deformation Fields:\n",
    "- To ensure that the resulting deformed shape (x') is smooth and adheres to certain constraints:\n",
    "    - recommends using biharmonic deformation fields. These fields satisfy the biharmonic equation: Δ²d = 0, which ensures smoothness.\n",
    "\n",
    "#### Handle Constraints:\n",
    "- The deformation fields should respect certain handle constraints. \n",
    "- These constraints describe how the handles (control points) move or deform.\n",
    "- they are written as **db = xbc - xb**\n",
    "    - **db**: is the deformation field at the boundary (handles), \n",
    "    - **xbc**: is the desired position of the handles after deformation, \n",
    "    - **xb**: is the original position of the handles.\n",
    "\n",
    "#### Solving for Deformation Fields: \n",
    "- You can use a harmonic solver with k = 2 to find the deformation field that satisfies the biharmonic equation while respecting the handle constraints.\n",
    "-  After that you can apply it to the original positions (x) to obtain the deformed positions (x')."
   ]
  },
  {
   "cell_type": "markdown",
   "id": "54e35780",
   "metadata": {},
   "source": []
  },
  {
   "cell_type": "markdown",
   "id": "716ac063",
   "metadata": {},
   "source": [
    "# Example Code Implementation"
   ]
  },
  {
   "cell_type": "code",
   "execution_count": 3,
   "id": "f35af523",
   "metadata": {},
   "outputs": [],
   "source": [
    "import igl\n",
    "import scipy as sp\n",
    "import numpy as np\n",
    "from meshplot import plot, subplot, interact"
   ]
  },
  {
   "cell_type": "code",
   "execution_count": 4,
   "id": "2785f119",
   "metadata": {},
   "outputs": [],
   "source": [
    "v, f = igl.read_triangle_mesh(\"D:/Medsoft/test/libigl/libgil-examples/decimated-max.obj\")\n",
    "# Swap X and Z axes to adjust the orientation of the mesh as needed.\n",
    "v[:,[0, 2]] = v[:,[2, 0]] \n",
    "u = v.copy()\n",
    "\n"
   ]
  },
  {
   "cell_type": "code",
   "execution_count": 5,
   "id": "75c21941",
   "metadata": {},
   "outputs": [],
   "source": [
    "# read selection matrix s from a file\n",
    "# This matrix is used to mark certain vertices as handles or constraints for the deformation. \n",
    "# It identifies which vertices are influenced by the deformation.\n",
    "selection_matrix = igl.read_dmat(\"D:/Medsoft/test/libigl/libgil-examples/decimated-max-selection.dmat\") \n",
    "\n",
    "# Boundary Conditions\n",
    "# It identifies the boundary vertices b based on the selection matrix selection_matrix.\n",
    "# These boundary conditions specify how the selected vertices should move during deformation.\n",
    "boundary_condition = np.array([[t[0] for t in [(i, selection_matrix[i]) for i in range(0, v.shape[0])] if t[1] >= 0]]).T\n"
   ]
  },
  {
   "cell_type": "code",
   "execution_count": 6,
   "id": "013e296a",
   "metadata": {},
   "outputs": [],
   "source": [
    "## Boundary conditions directly on deformed positions\n",
    "# sets up u_bc and v_bc to store the boundary conditions for the deformed and original positions.\n",
    "u_bc = np.zeros((boundary_condition.shape[0], v.shape[1]))\n",
    "v_bc = np.zeros((boundary_condition.shape[0], v.shape[1]))\n",
    "\n",
    "for bi in range(boundary_condition.shape[0]):\n",
    "    # It calculates a deformed mesh using the harmonic deformation technique with a biharmonic operator.\n",
    "    v_bc[bi] = v[boundary_condition[bi]]\n",
    "\n",
    "    if selection_matrix[boundary_condition[bi]] == 0: # Don't move handle 0\n",
    "        u_bc[bi] = v[boundary_condition[bi]]\n",
    "    elif selection_matrix[boundary_condition[bi]] == 1: # Move handle 1 down\n",
    "        u_bc[bi] = v[boundary_condition[bi]] + np.array([[0, -50, 0]])\n",
    "    else: # Move other handles forward\n",
    "        u_bc[bi] = v[boundary_condition[bi]] + np.array([[-25, 0, 0]])\n"
   ]
  },
  {
   "cell_type": "code",
   "execution_count": 7,
   "id": "8301e211",
   "metadata": {},
   "outputs": [
    {
     "data": {
      "application/vnd.jupyter.widget-view+json": {
       "model_id": "99f13067382e46fd82de446a1b62e23c",
       "version_major": 2,
       "version_minor": 0
      },
      "text/plain": [
       "HBox(children=(Output(), Output(), Output(), Output()))"
      ]
     },
     "metadata": {},
     "output_type": "display_data"
    },
    {
     "data": {
      "text/plain": [
       "<meshplot.plot.Subplot at 0x1e876e7d1e0>"
      ]
     },
     "execution_count": 7,
     "metadata": {},
     "output_type": "execute_result"
    }
   ],
   "source": [
    "p = subplot(v, f, selection_matrix, shading={\"wireframe\": False, \"colormap\": \"tab10\"}, s=[1, 4, 0])\n",
    "for i in range(3):\n",
    "\n",
    "    # computes an animation frame for boundary conditions\n",
    "    # (u_bc - v_bc): interpolating between the original boundary conditions (v_bc) and the target boundary conditions (u_bc).\n",
    "    # This interpolation creates the effect of smooth deformation.\n",
    "    u_bc_anim = v_bc + i*0.6 * (u_bc - v_bc)\n",
    "    d_bc = u_bc_anim - v_bc\n",
    "\n",
    "    # Deformation Calculation\n",
    "    # v: original mesh\n",
    "    # f: face information\n",
    "    # boundary_condition: boundary conditions \n",
    "    # d_bc: animated boundary condition\n",
    "    d = igl.harmonic(v, f, boundary_condition, d_bc, 2)\n",
    "\n",
    "    # Updating Deformed Mesh\n",
    "    # is updated by adding the deformation field d to the original vertex positions v\n",
    "    u = v + d\n",
    "\n",
    "    # plot\n",
    "    subplot(u, f, selection_matrix, shading={\"wireframe\": False, \"colormap\": \"tab10\"}, s=[1, 4, i+1], data=p)\n",
    "p"
   ]
  },
  {
   "cell_type": "code",
   "execution_count": null,
   "id": "ae9fc1b5",
   "metadata": {},
   "outputs": [],
   "source": []
  }
 ],
 "metadata": {
  "kernelspec": {
   "display_name": "test_venv",
   "language": "python",
   "name": "python3"
  },
  "language_info": {
   "codemirror_mode": {
    "name": "ipython",
    "version": 3
   },
   "file_extension": ".py",
   "mimetype": "text/x-python",
   "name": "python",
   "nbconvert_exporter": "python",
   "pygments_lexer": "ipython3",
   "version": "3.10.7"
  }
 },
 "nbformat": 4,
 "nbformat_minor": 5
}
